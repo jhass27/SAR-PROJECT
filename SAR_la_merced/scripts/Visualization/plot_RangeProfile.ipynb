{
 "cells": [
  {
   "cell_type": "code",
   "execution_count": 2,
   "metadata": {},
   "outputs": [],
   "source": [
    "import drawFigures as dF\n",
    "import numpy as np\n",
    "import h5py\n",
    "import pandas as pd\n",
    "import os.path"
   ]
  },
  {
   "cell_type": "markdown",
   "metadata": {},
   "source": [
    "## Reading hdf5 file"
   ]
  },
  {
   "cell_type": "code",
   "execution_count": 20,
   "metadata": {},
   "outputs": [],
   "source": [
    "raw_data =pd.read_hdf(\"/home/sar/Documents/VNA_scripts/scripts/test5_ohneAmplifier/November_2022/dset_1.h5\")"
   ]
  },
  {
   "cell_type": "code",
   "execution_count": 21,
   "metadata": {},
   "outputs": [
    {
     "data": {
      "text/html": [
       "<div>\n",
       "<style scoped>\n",
       "    .dataframe tbody tr th:only-of-type {\n",
       "        vertical-align: middle;\n",
       "    }\n",
       "\n",
       "    .dataframe tbody tr th {\n",
       "        vertical-align: top;\n",
       "    }\n",
       "\n",
       "    .dataframe thead th {\n",
       "        text-align: right;\n",
       "    }\n",
       "</style>\n",
       "<table border=\"1\" class=\"dataframe\">\n",
       "  <thead>\n",
       "    <tr style=\"text-align: right;\">\n",
       "      <th></th>\n",
       "      <th>0</th>\n",
       "      <th>1</th>\n",
       "      <th>2</th>\n",
       "      <th>3</th>\n",
       "      <th>4</th>\n",
       "      <th>5</th>\n",
       "      <th>6</th>\n",
       "      <th>7</th>\n",
       "      <th>8</th>\n",
       "      <th>9</th>\n",
       "      <th>...</th>\n",
       "      <th>290</th>\n",
       "      <th>291</th>\n",
       "      <th>292</th>\n",
       "      <th>293</th>\n",
       "      <th>294</th>\n",
       "      <th>295</th>\n",
       "      <th>296</th>\n",
       "      <th>297</th>\n",
       "      <th>298</th>\n",
       "      <th>299</th>\n",
       "    </tr>\n",
       "  </thead>\n",
       "  <tbody>\n",
       "    <tr>\n",
       "      <th>0</th>\n",
       "      <td>0.003866+0.000804j</td>\n",
       "      <td>0.003856+0.000176j</td>\n",
       "      <td>0.003850-0.000448j</td>\n",
       "      <td>0.003745-0.001065j</td>\n",
       "      <td>0.003567-0.001603j</td>\n",
       "      <td>0.003341-0.002240j</td>\n",
       "      <td>0.002925-0.002714j</td>\n",
       "      <td>0.002468-0.003275j</td>\n",
       "      <td>0.001977-0.003783j</td>\n",
       "      <td>0.001364-0.004190j</td>\n",
       "      <td>...</td>\n",
       "      <td>-0.003831-0.001874j</td>\n",
       "      <td>-0.003972-0.001112j</td>\n",
       "      <td>-0.004095-0.000503j</td>\n",
       "      <td>-0.004056+0.000200j</td>\n",
       "      <td>-0.003946+0.000868j</td>\n",
       "      <td>-0.003738+0.001562j</td>\n",
       "      <td>-0.003382+0.002212j</td>\n",
       "      <td>-0.003006+0.002806j</td>\n",
       "      <td>-0.002400+0.003401j</td>\n",
       "      <td>-0.001706+0.003749j</td>\n",
       "    </tr>\n",
       "    <tr>\n",
       "      <th>1</th>\n",
       "      <td>-0.002042-0.000747j</td>\n",
       "      <td>-0.002056-0.000399j</td>\n",
       "      <td>-0.002112-0.000099j</td>\n",
       "      <td>-0.002163+0.000267j</td>\n",
       "      <td>-0.002193+0.000631j</td>\n",
       "      <td>-0.002150+0.001053j</td>\n",
       "      <td>-0.002006+0.001622j</td>\n",
       "      <td>-0.001647+0.002047j</td>\n",
       "      <td>-0.001091+0.002483j</td>\n",
       "      <td>-0.000482+0.002642j</td>\n",
       "      <td>...</td>\n",
       "      <td>0.001911+0.005142j</td>\n",
       "      <td>0.003038+0.004824j</td>\n",
       "      <td>0.004090+0.004114j</td>\n",
       "      <td>0.004985+0.003209j</td>\n",
       "      <td>0.005682+0.002162j</td>\n",
       "      <td>0.006040+0.000875j</td>\n",
       "      <td>0.006124-0.000487j</td>\n",
       "      <td>0.005929-0.001762j</td>\n",
       "      <td>0.005391-0.002938j</td>\n",
       "      <td>0.004676-0.004041j</td>\n",
       "    </tr>\n",
       "    <tr>\n",
       "      <th>2</th>\n",
       "      <td>-0.002871-0.003301j</td>\n",
       "      <td>-0.003263-0.002856j</td>\n",
       "      <td>-0.003618-0.002390j</td>\n",
       "      <td>-0.004063-0.001880j</td>\n",
       "      <td>-0.004437-0.001266j</td>\n",
       "      <td>-0.004652-0.000410j</td>\n",
       "      <td>-0.004638+0.000428j</td>\n",
       "      <td>-0.004516+0.001345j</td>\n",
       "      <td>-0.004127+0.002126j</td>\n",
       "      <td>-0.003558+0.002820j</td>\n",
       "      <td>...</td>\n",
       "      <td>0.000316+0.002513j</td>\n",
       "      <td>0.000722+0.002462j</td>\n",
       "      <td>0.001208+0.002360j</td>\n",
       "      <td>0.001583+0.002198j</td>\n",
       "      <td>0.002027+0.001974j</td>\n",
       "      <td>0.002482+0.001574j</td>\n",
       "      <td>0.002831+0.001061j</td>\n",
       "      <td>0.003106+0.000465j</td>\n",
       "      <td>0.003166-0.000291j</td>\n",
       "      <td>0.003059-0.001018j</td>\n",
       "    </tr>\n",
       "  </tbody>\n",
       "</table>\n",
       "<p>3 rows × 300 columns</p>\n",
       "</div>"
      ],
      "text/plain": [
       "                  0                   1                   2    \\\n",
       "0  0.003866+0.000804j  0.003856+0.000176j  0.003850-0.000448j   \n",
       "1 -0.002042-0.000747j -0.002056-0.000399j -0.002112-0.000099j   \n",
       "2 -0.002871-0.003301j -0.003263-0.002856j -0.003618-0.002390j   \n",
       "\n",
       "                  3                   4                   5    \\\n",
       "0  0.003745-0.001065j  0.003567-0.001603j  0.003341-0.002240j   \n",
       "1 -0.002163+0.000267j -0.002193+0.000631j -0.002150+0.001053j   \n",
       "2 -0.004063-0.001880j -0.004437-0.001266j -0.004652-0.000410j   \n",
       "\n",
       "                  6                   7                   8    \\\n",
       "0  0.002925-0.002714j  0.002468-0.003275j  0.001977-0.003783j   \n",
       "1 -0.002006+0.001622j -0.001647+0.002047j -0.001091+0.002483j   \n",
       "2 -0.004638+0.000428j -0.004516+0.001345j -0.004127+0.002126j   \n",
       "\n",
       "                  9    ...                 290                 291  \\\n",
       "0  0.001364-0.004190j  ... -0.003831-0.001874j -0.003972-0.001112j   \n",
       "1 -0.000482+0.002642j  ...  0.001911+0.005142j  0.003038+0.004824j   \n",
       "2 -0.003558+0.002820j  ...  0.000316+0.002513j  0.000722+0.002462j   \n",
       "\n",
       "                  292                 293                 294  \\\n",
       "0 -0.004095-0.000503j -0.004056+0.000200j -0.003946+0.000868j   \n",
       "1  0.004090+0.004114j  0.004985+0.003209j  0.005682+0.002162j   \n",
       "2  0.001208+0.002360j  0.001583+0.002198j  0.002027+0.001974j   \n",
       "\n",
       "                  295                 296                 297  \\\n",
       "0 -0.003738+0.001562j -0.003382+0.002212j -0.003006+0.002806j   \n",
       "1  0.006040+0.000875j  0.006124-0.000487j  0.005929-0.001762j   \n",
       "2  0.002482+0.001574j  0.002831+0.001061j  0.003106+0.000465j   \n",
       "\n",
       "                  298                 299  \n",
       "0 -0.002400+0.003401j -0.001706+0.003749j  \n",
       "1  0.005391-0.002938j  0.004676-0.004041j  \n",
       "2  0.003166-0.000291j  0.003059-0.001018j  \n",
       "\n",
       "[3 rows x 300 columns]"
      ]
     },
     "execution_count": 21,
     "metadata": {},
     "output_type": "execute_result"
    }
   ],
   "source": [
    "raw_data"
   ]
  },
  {
   "cell_type": "markdown",
   "metadata": {},
   "source": [
    "## Obtaining the range profile"
   ]
  },
  {
   "cell_type": "code",
   "execution_count": 11,
   "metadata": {},
   "outputs": [
    {
     "data": {
      "image/png": "[encoded data removed]",
      "text/plain": [
       "<Figure size 640x480 with 1 Axes>"
      ]
     },
     "metadata": {},
     "output_type": "display_data"
    },
    {
     "data": {
      "text/plain": [
       "'ok'"
      ]
     },
     "execution_count": 11,
     "metadata": {},
     "output_type": "execute_result"
    }
   ],
   "source": [
    "dF.rangeProfile(15, 0.5, raw_data.T[1])"
   ]
  },
  {
   "cell_type": "code",
   "execution_count": 459,
   "metadata": {},
   "outputs": [
    {
     "data": {
      "text/plain": [
       "0.75"
      ]
     },
     "execution_count": 459,
     "metadata": {},
     "output_type": "execute_result"
    }
   ],
   "source": [
    "\n",
    "\n",
    "dr = round(0.3/(2*0.2),2)\n",
    "dr"
   ]
  },
  {
   "cell_type": "code",
   "execution_count": 460,
   "metadata": {},
   "outputs": [
    {
     "data": {
      "text/plain": [
       "75.0"
      ]
     },
     "execution_count": 460,
     "metadata": {},
     "output_type": "execute_result"
    }
   ],
   "source": [
    "dr*100"
   ]
  },
  {
   "cell_type": "code",
   "execution_count": 461,
   "metadata": {},
   "outputs": [
    {
     "data": {
      "text/plain": [
       "0.5"
      ]
     },
     "execution_count": 461,
     "metadata": {},
     "output_type": "execute_result"
    }
   ],
   "source": [
    "200/400"
   ]
  },
  {
   "cell_type": "code",
   "execution_count": null,
   "metadata": {},
   "outputs": [],
   "source": []
  },
  {
   "cell_type": "code",
   "execution_count": null,
   "metadata": {},
   "outputs": [],
   "source": []
  },
  {
   "cell_type": "code",
   "execution_count": null,
   "metadata": {},
   "outputs": [],
   "source": []
  },
  {
   "cell_type": "code",
   "execution_count": null,
   "metadata": {},
   "outputs": [],
   "source": []
  },
  {
   "cell_type": "code",
   "execution_count": null,
   "metadata": {},
   "outputs": [],
   "source": []
  },
  {
   "cell_type": "code",
   "execution_count": null,
   "metadata": {},
   "outputs": [],
   "source": []
  },
  {
   "cell_type": "code",
   "execution_count": null,
   "metadata": {},
   "outputs": [],
   "source": []
  },
  {
   "cell_type": "code",
   "execution_count": null,
   "metadata": {},
   "outputs": [],
   "source": []
  },
  {
   "cell_type": "code",
   "execution_count": null,
   "metadata": {},
   "outputs": [],
   "source": []
  },
  {
   "cell_type": "code",
   "execution_count": null,
   "metadata": {},
   "outputs": [],
   "source": []
  },
  {
   "cell_type": "code",
   "execution_count": null,
   "metadata": {},
   "outputs": [],
   "source": []
  },
  {
   "cell_type": "code",
   "execution_count": null,
   "metadata": {},
   "outputs": [],
   "source": []
  },
  {
   "cell_type": "code",
   "execution_count": null,
   "metadata": {},
   "outputs": [],
   "source": []
  },
  {
   "cell_type": "code",
   "execution_count": null,
   "metadata": {},
   "outputs": [],
   "source": []
  },
  {
   "cell_type": "code",
   "execution_count": null,
   "metadata": {},
   "outputs": [],
   "source": []
  },
  {
   "cell_type": "code",
   "execution_count": null,
   "metadata": {},
   "outputs": [],
   "source": []
  },
  {
   "cell_type": "code",
   "execution_count": null,
   "metadata": {},
   "outputs": [],
   "source": []
  },
  {
   "cell_type": "code",
   "execution_count": null,
   "metadata": {},
   "outputs": [],
   "source": []
  },
  {
   "cell_type": "code",
   "execution_count": null,
   "metadata": {},
   "outputs": [],
   "source": []
  },
  {
   "cell_type": "code",
   "execution_count": null,
   "metadata": {},
   "outputs": [],
   "source": []
  },
  {
   "cell_type": "code",
   "execution_count": null,
   "metadata": {},
   "outputs": [],
   "source": []
  }
 ],
 "metadata": {
  "kernelspec": {
   "display_name": "Python 3.8.10 64-bit",
   "language": "python",
   "name": "python3"
  },
  "language_info": {
   "codemirror_mode": {
    "name": "ipython",
    "version": 3
   },
   "file_extension": ".py",
   "mimetype": "text/x-python",
   "name": "python",
   "nbconvert_exporter": "python",
   "pygments_lexer": "ipython3",
   "version": "3.8.10"
  },
  "vscode": {
   "interpreter": {
    "hash": "916dbcbb3f70747c44a77c7bcd40155683ae19c65e1c03b4aa3499c5328201f1"
   }
  }
 },
 "nbformat": 4,
 "nbformat_minor": 2
}
